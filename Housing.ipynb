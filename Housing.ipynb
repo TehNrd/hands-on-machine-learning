{
 "cells": [
  {
   "cell_type": "code",
   "execution_count": 12,
   "id": "3371695a",
   "metadata": {
    "scrolled": true
   },
   "outputs": [
    {
     "name": "stdout",
     "output_type": "stream",
     "text": [
      "heldfadsfdl\n"
     ]
    }
   ],
   "source": [
    "print(\"hello\")"
   ]
  }
 ],
 "metadata": {
  "kernelspec": {
   "display_name": "ml_env",
   "language": "python",
   "name": "python3"
  },
  "language_info": {
   "codemirror_mode": {
    "name": "ipython",
    "version": 3
   },
   "file_extension": ".py",
   "mimetype": "text/x-python",
   "name": "python",
   "nbconvert_exporter": "python",
   "pygments_lexer": "ipython3",
   "version": "3.11.2"
  },
  "vscode": {
   "interpreter": {
    "hash": "1f9f110979b66587f0abddde3452d3b74bc6c5fec527e43806b99303e9a25f87"
   }
  }
 },
 "nbformat": 4,
 "nbformat_minor": 5
}
